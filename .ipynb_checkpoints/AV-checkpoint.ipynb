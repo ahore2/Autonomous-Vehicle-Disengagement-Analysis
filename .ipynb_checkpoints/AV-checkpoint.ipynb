{
 "cells": [
  {
   "cell_type": "code",
   "execution_count": 3,
   "metadata": {
    "colab": {},
    "colab_type": "code",
    "id": "w7TGz68ouzYQ"
   },
   "outputs": [],
   "source": [
    "import pandas as pd\n",
    "import numpy as np\n",
    "import matplotlib.mlab as mlab\n",
    "import matplotlib.pyplot as plt"
   ]
  },
  {
   "cell_type": "markdown",
   "metadata": {
    "colab_type": "text",
    "id": "Bjq91UkJwvl2"
   },
   "source": [
    "**Importing the data into Jupyter Notebook.**"
   ]
  },
  {
   "cell_type": "code",
   "execution_count": 6,
   "metadata": {
    "colab": {},
    "colab_type": "code",
    "id": "zom4EK1RvurI"
   },
   "outputs": [],
   "source": [
    "disengagements = pd.read_csv('mp1_av_disengagements.csv')\n",
    "totalmiles = pd.read_csv('mp1_av_totalmiles.csv')"
   ]
  },
  {
   "cell_type": "code",
   "execution_count": 7,
   "metadata": {
    "colab": {
     "base_uri": "https://localhost:8080/",
     "height": 204
    },
    "colab_type": "code",
    "id": "7V2MnQlNweo8",
    "outputId": "c8c0580a-3e2b-4ffe-e8cd-96da4b0cdd33"
   },
   "outputs": [
    {
     "data": {
      "text/html": [
       "<div>\n",
       "<style scoped>\n",
       "    .dataframe tbody tr th:only-of-type {\n",
       "        vertical-align: middle;\n",
       "    }\n",
       "\n",
       "    .dataframe tbody tr th {\n",
       "        vertical-align: top;\n",
       "    }\n",
       "\n",
       "    .dataframe thead th {\n",
       "        text-align: right;\n",
       "    }\n",
       "</style>\n",
       "<table border=\"1\" class=\"dataframe\">\n",
       "  <thead>\n",
       "    <tr style=\"text-align: right;\">\n",
       "      <th></th>\n",
       "      <th>Month</th>\n",
       "      <th>Car</th>\n",
       "      <th>Location</th>\n",
       "      <th>Weather</th>\n",
       "      <th>TypeOfTrigger</th>\n",
       "      <th>ReactionTime</th>\n",
       "      <th>Cause</th>\n",
       "    </tr>\n",
       "  </thead>\n",
       "  <tbody>\n",
       "    <tr>\n",
       "      <th>0</th>\n",
       "      <td>14-Sep</td>\n",
       "      <td>WDD2221851A001072</td>\n",
       "      <td>urban-street</td>\n",
       "      <td>cloudy</td>\n",
       "      <td>automatic</td>\n",
       "      <td>0.58</td>\n",
       "      <td>Incorrect Traffic Light Detection</td>\n",
       "    </tr>\n",
       "    <tr>\n",
       "      <th>1</th>\n",
       "      <td>14-Sep</td>\n",
       "      <td>WDD2221851A001072</td>\n",
       "      <td>urban-street</td>\n",
       "      <td>cloudy</td>\n",
       "      <td>automatic</td>\n",
       "      <td>0.66</td>\n",
       "      <td>Adverse road surface conditions</td>\n",
       "    </tr>\n",
       "    <tr>\n",
       "      <th>2</th>\n",
       "      <td>14-Sep</td>\n",
       "      <td>WDD2221851A001072</td>\n",
       "      <td>urban-street</td>\n",
       "      <td>cloudy</td>\n",
       "      <td>automatic</td>\n",
       "      <td>1.93</td>\n",
       "      <td>Position Estimation Failure</td>\n",
       "    </tr>\n",
       "    <tr>\n",
       "      <th>3</th>\n",
       "      <td>14-Sep</td>\n",
       "      <td>WDD2221851A001072</td>\n",
       "      <td>urban-street</td>\n",
       "      <td>cloudy</td>\n",
       "      <td>automatic</td>\n",
       "      <td>0.65</td>\n",
       "      <td>Emergency Vehicle</td>\n",
       "    </tr>\n",
       "    <tr>\n",
       "      <th>4</th>\n",
       "      <td>14-Sep</td>\n",
       "      <td>WDD2221851A001072</td>\n",
       "      <td>urban-street</td>\n",
       "      <td>cloudy</td>\n",
       "      <td>automatic</td>\n",
       "      <td>0.64</td>\n",
       "      <td>Adverse road surface conditions</td>\n",
       "    </tr>\n",
       "  </tbody>\n",
       "</table>\n",
       "</div>"
      ],
      "text/plain": [
       "    Month                Car      Location Weather TypeOfTrigger  \\\n",
       "0  14-Sep  WDD2221851A001072  urban-street  cloudy     automatic   \n",
       "1  14-Sep  WDD2221851A001072  urban-street  cloudy     automatic   \n",
       "2  14-Sep  WDD2221851A001072  urban-street  cloudy     automatic   \n",
       "3  14-Sep  WDD2221851A001072  urban-street  cloudy     automatic   \n",
       "4  14-Sep  WDD2221851A001072  urban-street  cloudy     automatic   \n",
       "\n",
       "   ReactionTime                              Cause  \n",
       "0          0.58  Incorrect Traffic Light Detection  \n",
       "1          0.66    Adverse road surface conditions  \n",
       "2          1.93        Position Estimation Failure  \n",
       "3          0.65                  Emergency Vehicle  \n",
       "4          0.64    Adverse road surface conditions  "
      ]
     },
     "execution_count": 7,
     "metadata": {},
     "output_type": "execute_result"
    }
   ],
   "source": [
    "disengagements.head()"
   ]
  },
  {
   "cell_type": "code",
   "execution_count": 6,
   "metadata": {
    "colab": {
     "base_uri": "https://localhost:8080/",
     "height": 272
    },
    "colab_type": "code",
    "id": "mjOI4Rm0wmtG",
    "outputId": "21a805eb-1d9c-45f4-bfc6-cb6386939e6b"
   },
   "outputs": [
    {
     "data": {
      "text/html": [
       "<div>\n",
       "<style scoped>\n",
       "    .dataframe tbody tr th:only-of-type {\n",
       "        vertical-align: middle;\n",
       "    }\n",
       "\n",
       "    .dataframe tbody tr th {\n",
       "        vertical-align: top;\n",
       "    }\n",
       "\n",
       "    .dataframe thead th {\n",
       "        text-align: right;\n",
       "    }\n",
       "</style>\n",
       "<table border=\"1\" class=\"dataframe\">\n",
       "  <thead>\n",
       "    <tr style=\"text-align: right;\">\n",
       "      <th></th>\n",
       "      <th>Month</th>\n",
       "      <th>Car</th>\n",
       "      <th>miles driven in autonomous mode</th>\n",
       "      <th>total number of disengagements</th>\n",
       "      <th>number of automatic disengagements</th>\n",
       "      <th>number of manual disengagements</th>\n",
       "    </tr>\n",
       "  </thead>\n",
       "  <tbody>\n",
       "    <tr>\n",
       "      <th>0</th>\n",
       "      <td>14-Sep</td>\n",
       "      <td>WDD2221851A001072</td>\n",
       "      <td>4207</td>\n",
       "      <td>44</td>\n",
       "      <td>24</td>\n",
       "      <td>20</td>\n",
       "    </tr>\n",
       "    <tr>\n",
       "      <th>1</th>\n",
       "      <td>14-Oct</td>\n",
       "      <td>WDD2221851A001072</td>\n",
       "      <td>23971</td>\n",
       "      <td>228</td>\n",
       "      <td>100</td>\n",
       "      <td>128</td>\n",
       "    </tr>\n",
       "    <tr>\n",
       "      <th>2</th>\n",
       "      <td>14-Nov</td>\n",
       "      <td>WDD2221851A001072</td>\n",
       "      <td>15837</td>\n",
       "      <td>141</td>\n",
       "      <td>66</td>\n",
       "      <td>75</td>\n",
       "    </tr>\n",
       "    <tr>\n",
       "      <th>3</th>\n",
       "      <td>14-Dec</td>\n",
       "      <td>WDD2221851A001072</td>\n",
       "      <td>9413</td>\n",
       "      <td>36</td>\n",
       "      <td>15</td>\n",
       "      <td>21</td>\n",
       "    </tr>\n",
       "    <tr>\n",
       "      <th>4</th>\n",
       "      <td>15-Jan</td>\n",
       "      <td>WDD2221851A001072</td>\n",
       "      <td>18192</td>\n",
       "      <td>48</td>\n",
       "      <td>18</td>\n",
       "      <td>30</td>\n",
       "    </tr>\n",
       "  </tbody>\n",
       "</table>\n",
       "</div>"
      ],
      "text/plain": [
       "    Month                Car  miles driven in autonomous mode  \\\n",
       "0  14-Sep  WDD2221851A001072                             4207   \n",
       "1  14-Oct  WDD2221851A001072                            23971   \n",
       "2  14-Nov  WDD2221851A001072                            15837   \n",
       "3  14-Dec  WDD2221851A001072                             9413   \n",
       "4  15-Jan  WDD2221851A001072                            18192   \n",
       "\n",
       "   total number of disengagements  number of automatic disengagements  \\\n",
       "0                              44                                  24   \n",
       "1                             228                                 100   \n",
       "2                             141                                  66   \n",
       "3                              36                                  15   \n",
       "4                              48                                  18   \n",
       "\n",
       "   number of manual disengagements  \n",
       "0                               20  \n",
       "1                              128  \n",
       "2                               75  \n",
       "3                               21  \n",
       "4                               30  "
      ]
     },
     "execution_count": 6,
     "metadata": {
      "tags": []
     },
     "output_type": "execute_result"
    }
   ],
   "source": [
    "totalmiles.head()"
   ]
  },
  {
   "cell_type": "code",
   "execution_count": 7,
   "metadata": {
    "colab": {
     "base_uri": "https://localhost:8080/",
     "height": 34
    },
    "colab_type": "code",
    "id": "52B1xbH5xGl3",
    "outputId": "8fd49625-e59e-41ef-e3fc-ed48cd73e5bf"
   },
   "outputs": [
    {
     "data": {
      "text/plain": [
       "1024"
      ]
     },
     "execution_count": 7,
     "metadata": {
      "tags": []
     },
     "output_type": "execute_result"
    }
   ],
   "source": [
    "len(disengagements) #Total number of AV disengagements over the entire duration of available data"
   ]
  },
  {
   "cell_type": "code",
   "execution_count": 8,
   "metadata": {
    "colab": {
     "base_uri": "https://localhost:8080/",
     "height": 34
    },
    "colab_type": "code",
    "id": "xvghf06OyBaz",
    "outputId": "b65410bb-fc79-4be3-fc1c-740d587fec2b"
   },
   "outputs": [
    {
     "data": {
      "text/plain": [
       "15"
      ]
     },
     "execution_count": 8,
     "metadata": {
      "tags": []
     },
     "output_type": "execute_result"
    }
   ],
   "source": [
    "disengagements.Month.nunique() #Number of unique months that have recorded AV disengagements"
   ]
  },
  {
   "cell_type": "code",
   "execution_count": 9,
   "metadata": {
    "colab": {
     "base_uri": "https://localhost:8080/",
     "height": 34
    },
    "colab_type": "code",
    "id": "XUdntqkoy8t_",
    "outputId": "ba523721-707d-49e9-923c-ca01023053d4"
   },
   "outputs": [
    {
     "data": {
      "text/plain": [
       "array(['urban-street', 'highway'], dtype=object)"
      ]
     },
     "execution_count": 9,
     "metadata": {
      "tags": []
     },
     "output_type": "execute_result"
    }
   ],
   "source": [
    "disengagements.Location.unique() #List of unique locations of AV disengagements"
   ]
  },
  {
   "cell_type": "code",
   "execution_count": 10,
   "metadata": {
    "colab": {
     "base_uri": "https://localhost:8080/",
     "height": 34
    },
    "colab_type": "code",
    "id": "B2OfyTL9zJM7",
    "outputId": "ee1c7bb9-74cd-4ea3-bee8-55e7d6787c91"
   },
   "outputs": [
    {
     "data": {
      "text/plain": [
       "10"
      ]
     },
     "execution_count": 10,
     "metadata": {
      "tags": []
     },
     "output_type": "execute_result"
    }
   ],
   "source": [
    "disengagements.Cause.nunique() #Number of unique causes for AV disengagements"
   ]
  },
  {
   "cell_type": "code",
   "execution_count": 11,
   "metadata": {
    "colab": {
     "base_uri": "https://localhost:8080/",
     "height": 153
    },
    "colab_type": "code",
    "id": "b19lskvO1rlb",
    "outputId": "a1812690-947b-493b-9363-0584c236e582"
   },
   "outputs": [
    {
     "data": {
      "text/plain": [
       "Month              0\n",
       "Car                0\n",
       "Location           0\n",
       "Weather            0\n",
       "TypeOfTrigger      0\n",
       "ReactionTime     532\n",
       "Cause              0\n",
       "dtype: int64"
      ]
     },
     "execution_count": 11,
     "metadata": {
      "tags": []
     },
     "output_type": "execute_result"
    }
   ],
   "source": [
    "disengagements.isnull().sum() #Number of missing values (NAs commonly occur in real world datasets)"
   ]
  },
  {
   "cell_type": "code",
   "execution_count": 12,
   "metadata": {
    "colab": {
     "base_uri": "https://localhost:8080/",
     "height": 136
    },
    "colab_type": "code",
    "id": "yYb3ID083BOP",
    "outputId": "fa123adb-fd7b-44fa-8a09-345984193357"
   },
   "outputs": [
    {
     "data": {
      "text/plain": [
       "Month                                 0\n",
       "Car                                   0\n",
       "miles driven in autonomous mode       0\n",
       "total number of disengagements        0\n",
       "number of automatic disengagements    0\n",
       "number of manual disengagements       0\n",
       "dtype: int64"
      ]
     },
     "execution_count": 12,
     "metadata": {
      "tags": []
     },
     "output_type": "execute_result"
    }
   ],
   "source": [
    "totalmiles.isnull().sum() #Number of missing values (NAs commonly occur in real world datasets)"
   ]
  },
  {
   "cell_type": "markdown",
   "metadata": {
    "colab_type": "text",
    "id": "kmoZJ2PvcmFo"
   },
   "source": [
    "**Pie chart for the causes of AV disengagement. Based on the pie-chart, we list the top 2 leading causes of disengagement**"
   ]
  },
  {
   "cell_type": "code",
   "execution_count": 13,
   "metadata": {
    "colab": {
     "base_uri": "https://localhost:8080/",
     "height": 347
    },
    "colab_type": "code",
    "id": "ipGtqMaw3Y6h",
    "outputId": "27be1761-452b-41a9-ef9f-dfb25af897ad"
   },
   "outputs": [
    {
     "data": {
      "text/plain": [
       "<matplotlib.axes._subplots.AxesSubplot at 0x7f184ffa0fd0>"
      ]
     },
     "execution_count": 13,
     "metadata": {
      "tags": []
     },
     "output_type": "execute_result"
    },
    {
     "data": {
      "image/png": "[encoded data removed]",
      "text/plain": [
       "<Figure size 576x396 with 1 Axes>"
      ]
     },
     "metadata": {
      "tags": []
     },
     "output_type": "display_data"
    }
   ],
   "source": [
    "disengagements[\"Cause\"].value_counts().plot.pie(autopct='%.2f')"
   ]
  },
  {
   "cell_type": "markdown",
   "metadata": {
    "colab_type": "text",
    "id": "q-jDJvHOeyub"
   },
   "source": [
    "**Based on the above plot the two top causes of disengagements are 'Unwanted Driver Discomfort' and 'Recklessly Behaving Agent'.** We verify the same below:"
   ]
  },
  {
   "cell_type": "code",
   "execution_count": 14,
   "metadata": {
    "colab": {
     "base_uri": "https://localhost:8080/",
     "height": 204
    },
    "colab_type": "code",
    "id": "yBh1bVAZ3nRX",
    "outputId": "72fa7760-7cda-4fdd-a4ae-492405921b22"
   },
   "outputs": [
    {
     "data": {
      "text/plain": [
       "Unwanted Driver Discomfort                 128\n",
       "Recklessly behaving agent                  124\n",
       "Incorrect behavior prediction of others    109\n",
       "Hardware Fault                             104\n",
       "System Tuning and Calibration              102\n",
       "Software Froze                              98\n",
       "Emergency Vehicle                           98\n",
       "Incorrect Traffic Light Detection           96\n",
       "Adverse road surface conditions             85\n",
       "Position Estimation Failure                 80\n",
       "Name: Cause, dtype: int64"
      ]
     },
     "execution_count": 14,
     "metadata": {
      "tags": []
     },
     "output_type": "execute_result"
    }
   ],
   "source": [
    "disengagements[\"Cause\"].value_counts()"
   ]
  },
  {
   "cell_type": "markdown",
   "metadata": {
    "colab_type": "text",
    "id": "dVtdfTJyfL2z"
   },
   "source": [
    "**Visualizing the trend of disengagement/mile over time with monthly granularity.**"
   ]
  },
  {
   "cell_type": "code",
   "execution_count": 0,
   "metadata": {
    "colab": {},
    "colab_type": "code",
    "id": "vpgPuKRa6Paw"
   },
   "outputs": [],
   "source": [
    "#adding a column for disengagements/mile\n",
    "totalmiles[\"Disengagements/Mile\"] = totalmiles[\"total number of disengagements\"] / totalmiles[\"miles driven in autonomous mode\"]"
   ]
  },
  {
   "cell_type": "code",
   "execution_count": 16,
   "metadata": {
    "colab": {
     "base_uri": "https://localhost:8080/",
     "height": 68
    },
    "colab_type": "code",
    "id": "MrBCWRx8wsWq",
    "outputId": "4a1c74c4-99b3-4962-9439-7db8bfb28578"
   },
   "outputs": [
    {
     "data": {
      "text/plain": [
       "array(['14-Sep', '14-Oct', '14-Nov', '14-Dec', '15-Jan', '15-Feb',\n",
       "       '15-Mar', '15-Apr', '15-May', '15-Jun', '15-Jul', '15-Aug',\n",
       "       '15-Sep', '15-Oct', '15-Nov'], dtype=object)"
      ]
     },
     "execution_count": 16,
     "metadata": {
      "tags": []
     },
     "output_type": "execute_result"
    }
   ],
   "source": [
    "totalmiles[\"Month\"].unique()"
   ]
  },
  {
   "cell_type": "code",
   "execution_count": 17,
   "metadata": {
    "colab": {
     "base_uri": "https://localhost:8080/",
     "height": 376
    },
    "colab_type": "code",
    "id": "TbobbUtd6cHL",
    "outputId": "2213a1d0-8c1c-4c04-b0bb-50d16d1484d0"
   },
   "outputs": [
    {
     "data": {
      "image/png": "[encoded data removed]",
      "text/plain": [
       "<Figure size 576x396 with 1 Axes>"
      ]
     },
     "metadata": {
      "tags": []
     },
     "output_type": "display_data"
    }
   ],
   "source": [
    "totalmiles.groupby(\"Month\")[\"Disengagements/Mile\"].sum().plot(marker = 'o', linestyle = '--')\n",
    "\n",
    "bars = totalmiles[\"Month\"].unique()\n",
    "y_pos = np.arange(len(bars))\n",
    "\n",
    "plt.rcParams[\"figure.figsize\"] = 12,10\n",
    "plt.title(\"The trend of disengagement/mile over time with monthly granularity\")\n",
    "plt.xticks(y_pos,bars)\n",
    "plt.show()"
   ]
  },
  {
   "cell_type": "markdown",
   "metadata": {
    "colab_type": "text",
    "id": "CI_F8RSf3Uh1"
   },
   "source": [
    "The above graph shows a decremental trend over time. **Therefore the AVs show signs of maturity over time.**"
   ]
  },
  {
   "cell_type": "code",
   "execution_count": 0,
   "metadata": {
    "colab": {},
    "colab_type": "code",
    "id": "MJiSsoOrDK1e"
   },
   "outputs": [],
   "source": [
    "disengagements.dropna(inplace=True) #removing NA values\n",
    "reaction_wo_outliers = disengagements[disengagements.ReactionTime < 10]"
   ]
  },
  {
   "cell_type": "code",
   "execution_count": 20,
   "metadata": {
    "colab": {
     "base_uri": "https://localhost:8080/",
     "height": 674
    },
    "colab_type": "code",
    "id": "VWAyTfXy8EfN",
    "outputId": "9982c194-1a43-4ac5-e808-58c1d9276b81"
   },
   "outputs": [
    {
     "name": "stderr",
     "output_type": "stream",
     "text": [
      "/usr/local/lib/python3.6/dist-packages/matplotlib/axes/_axes.py:6521: MatplotlibDeprecationWarning: \n",
      "The 'normed' kwarg was deprecated in Matplotlib 2.1 and will be removed in 3.1. Use 'density' instead.\n",
      "  alternative=\"'density'\", removal=\"3.1\")\n"
     ]
    },
    {
     "data": {
      "text/plain": [
       "<matplotlib.axes._subplots.AxesSubplot at 0x7f184c9d94e0>"
      ]
     },
     "execution_count": 20,
     "metadata": {
      "tags": []
     },
     "output_type": "execute_result"
    },
    {
     "data": {
      "image/png": "[encoded data removed]",
      "text/plain": [
       "<Figure size 864x720 with 1 Axes>"
      ]
     },
     "metadata": {
      "tags": []
     },
     "output_type": "display_data"
    }
   ],
   "source": [
    "import seaborn as sns\n",
    "sns.distplot(reaction_wo_outliers['ReactionTime'], hist=True, kde=True, \n",
    "             bins=500, color = 'blue',\n",
    "             hist_kws={'edgecolor':'black'})"
   ]
  },
  {
   "cell_type": "markdown",
   "metadata": {
    "colab_type": "text",
    "id": "U1C-SuVtMjp_"
   },
   "source": [
    "The distribution closely resembles **Weibull distribution**. It is highly intuitive to assume that the reaction time must be some generalized form of the exponential distribution, as after any disengagement, at every moment either the driver takes over the contol (hits) or does not take over the control (misses). As there must be a lower bound for any human to react to an incident, we see an initial dip. So the Weibull distribution, which is a generalized exponential distribution, best fits the actual distribution."
   ]
  },
  {
   "cell_type": "markdown",
   "metadata": {
    "colab_type": "text",
    "id": "c_c8RAURg-bT"
   },
   "source": [
    "**We compute the average reaction time under different situations**"
   ]
  },
  {
   "cell_type": "code",
   "execution_count": 21,
   "metadata": {
    "colab": {
     "base_uri": "https://localhost:8080/",
     "height": 34
    },
    "colab_type": "code",
    "id": "Px2cdhTNDa-o",
    "outputId": "6b676284-9750-4b11-a32f-746796cca047"
   },
   "outputs": [
    {
     "data": {
      "text/plain": [
       "0.9297703252032526"
      ]
     },
     "execution_count": 21,
     "metadata": {
      "tags": []
     },
     "output_type": "execute_result"
    }
   ],
   "source": [
    "disengagements['ReactionTime'].mean()"
   ]
  },
  {
   "cell_type": "code",
   "execution_count": 22,
   "metadata": {
    "colab": {
     "base_uri": "https://localhost:8080/",
     "height": 85
    },
    "colab_type": "code",
    "id": "-jQ5wIP7EDp4",
    "outputId": "4aa4a294-f925-4e51-8824-bdc647e184a3"
   },
   "outputs": [
    {
     "data": {
      "text/plain": [
       "Location\n",
       "highway         1.48000\n",
       "urban-street    0.92865\n",
       "Name: ReactionTime, dtype: float64"
      ]
     },
     "execution_count": 22,
     "metadata": {
      "tags": []
     },
     "output_type": "execute_result"
    }
   ],
   "source": [
    "disengagements.groupby('Location')[\"ReactionTime\"].mean()"
   ]
  },
  {
   "cell_type": "markdown",
   "metadata": {
    "colab_type": "text",
    "id": "b1De6CZKhInv"
   },
   "source": [
    "**It is known that the mean reaction time for humans in non-AV cars is 1.09 seconds [4]. We check if the mean reaction time for humans in AV cars different from non-AV cars. We perform a hypothesis test at a 0.05 significance level.**"
   ]
  },
  {
   "cell_type": "code",
   "execution_count": 0,
   "metadata": {
    "colab": {},
    "colab_type": "code",
    "id": "m5MaUaT6IkNH"
   },
   "outputs": [],
   "source": [
    "from scipy import stats"
   ]
  },
  {
   "cell_type": "code",
   "execution_count": 24,
   "metadata": {
    "colab": {
     "base_uri": "https://localhost:8080/",
     "height": 34
    },
    "colab_type": "code",
    "id": "RlxkCaapITwV",
    "outputId": "232fcf9f-6636-4e38-8e59-639005375553"
   },
   "outputs": [
    {
     "data": {
      "text/plain": [
       "Ttest_1sampResult(statistic=-2.0986037086235854, pvalue=0.03636206696694606)"
      ]
     },
     "execution_count": 24,
     "metadata": {
      "tags": []
     },
     "output_type": "execute_result"
    }
   ],
   "source": [
    "stats.ttest_1samp(a=np.array(disengagements['ReactionTime']),popmean=1.09)\n"
   ]
  },
  {
   "cell_type": "markdown",
   "metadata": {
    "colab_type": "text",
    "id": "WMWdkV0phTrt"
   },
   "source": [
    "As the p-value is less than 0.05, we reject the null hypothesis and conclude that the two means are significantly different."
   ]
  },
  {
   "cell_type": "code",
   "execution_count": 25,
   "metadata": {
    "colab": {
     "base_uri": "https://localhost:8080/",
     "height": 644
    },
    "colab_type": "code",
    "id": "yR_YW3dYrxfe",
    "outputId": "c48b801c-16a5-47cd-9e15-1728f4d556f8"
   },
   "outputs": [
    {
     "data": {
      "image/png": "[encoded data removed]",
      "text/plain": [
       "<Figure size 864x720 with 1 Axes>"
      ]
     },
     "metadata": {
      "tags": []
     },
     "output_type": "display_data"
    }
   ],
   "source": [
    "#apply groupby function to plot graph of disengagements/mile with monthly granularity\n",
    "totalmiles.groupby(\"Month\")[\"Disengagements/Mile\"].sum().plot(kind='bar')\n",
    "plt.title(\"Graph of Disengagements per mile\")\n",
    "plt.rcParams[\"figure.figsize\"] = 12,10\n",
    "plt.show()"
   ]
  },
  {
   "cell_type": "markdown",
   "metadata": {
    "colab_type": "text",
    "id": "X6hv6KGctIlN"
   },
   "source": [
    "As we can see from above graph, the probability distribution for disengagements/mile with monthly granularity does not fit either of the given three distributions(Gaussian, Weibull, Exponential). But the distribution as seen above, contains two distinct humps or peaks with a valley separating them.  Each peak is a local maximum since they represent the highest values relative to the data points immediately surrounding them. The valley between these peaks is called a local minimum. And such kind of distribution with two peaks is generally called a **Bimodal distribution**."
   ]
  },
  {
   "cell_type": "markdown",
   "metadata": {
    "colab_type": "text",
    "id": "NQfVaDB1guz1"
   },
   "source": [
    "**We make the following practical assumptions:**\n",
    "\n",
    "**1. There can be at most one disengagement in a mile**\n",
    "\n",
    "**2. A day can be either clear or cloudy, but not both. The probability of a day being\n",
    "clear in California is 72%.**\n",
    "\n",
    "**3. The AV is equally likely to drive on a cloudy day as on a clear day.**"
   ]
  },
  {
   "cell_type": "code",
   "execution_count": 35,
   "metadata": {
    "colab": {
     "base_uri": "https://localhost:8080/",
     "height": 34
    },
    "colab_type": "code",
    "id": "sGwwjByluQvw",
    "outputId": "a9cbd4a4-f86d-420e-d71d-3b684e3e6722"
   },
   "outputs": [
    {
     "name": "stdout",
     "output_type": "stream",
     "text": [
      "1024\n"
     ]
    }
   ],
   "source": [
    "TD = totalmiles[\"total number of disengagements\"].sum()\n",
    "print(TD)"
   ]
  },
  {
   "cell_type": "code",
   "execution_count": 36,
   "metadata": {
    "colab": {
     "base_uri": "https://localhost:8080/",
     "height": 34
    },
    "colab_type": "code",
    "id": "PuLzhBOS-omk",
    "outputId": "c9aa2f06-9903-4872-9518-9f02c7f3c349"
   },
   "outputs": [
    {
     "name": "stdout",
     "output_type": "stream",
     "text": [
      "505229\n"
     ]
    }
   ],
   "source": [
    "TM = totalmiles[\"miles driven in autonomous mode\"].sum()\n",
    "print(TM)"
   ]
  },
  {
   "cell_type": "code",
   "execution_count": 9,
   "metadata": {
    "colab": {
     "base_uri": "https://localhost:8080/",
     "height": 68
    },
    "colab_type": "code",
    "id": "MQwLYZaE_40g",
    "outputId": "a59f497c-08a5-46f9-9289-0d7ee9824336"
   },
   "outputs": [
    {
     "data": {
      "text/plain": [
       "cloudy    835\n",
       "clear     189\n",
       "Name: Weather, dtype: int64"
      ]
     },
     "execution_count": 9,
     "metadata": {},
     "output_type": "execute_result"
    }
   ],
   "source": [
    "disengagements[\"Weather\"].value_counts()"
   ]
  },
  {
   "cell_type": "code",
   "execution_count": 47,
   "metadata": {
    "colab": {
     "base_uri": "https://localhost:8080/",
     "height": 51
    },
    "colab_type": "code",
    "id": "I6zSAVstmABb",
    "outputId": "9f1442dd-39c3-44ab-c144-17153b4ce8c5"
   },
   "outputs": [
    {
     "name": "stdout",
     "output_type": "stream",
     "text": [
      "141464.12000000002\n",
      "363764.88\n"
     ]
    }
   ],
   "source": [
    "TD_Cd = 835 #Total disengagements on cloudy days\n",
    "TD_Cl = 189 #Total disengagements on clear days\n",
    "\n",
    "#Total miles driven under cloudy condition\n",
    "TM_Cd = float(0.28*505229) #Since it is equally likely for the AV to drive on a clear day and a cloudy day.\n",
    "print(TM_Cd)\n",
    "#Total miles driven under clear condition\n",
    "TM_Cl = float(0.72*505229) #Since it is equally likely for the AV to drive on a clear day and a cloudy day.\n",
    "print(TM_Cl)"
   ]
  },
  {
   "cell_type": "code",
   "execution_count": 48,
   "metadata": {
    "colab": {
     "base_uri": "https://localhost:8080/",
     "height": 34
    },
    "colab_type": "code",
    "id": "aqLQADh__oYt",
    "outputId": "112ef743-fd2a-48a8-d0ed-62285030cce5"
   },
   "outputs": [
    {
     "name": "stdout",
     "output_type": "stream",
     "text": [
      "0.005902556775527249\n"
     ]
    }
   ],
   "source": [
    "lambda1 = TD_Cd / TM_Cd  #Probability of disengagement per mile on a cloudy day\n",
    "print(lambda1)"
   ]
  },
  {
   "cell_type": "markdown",
   "metadata": {
    "colab_type": "text",
    "id": "hiSmik1txUB0"
   },
   "source": [
    "**Based on the above assumptions, we calculate the probability of disengagement per mile on a clear day.**"
   ]
  },
  {
   "cell_type": "code",
   "execution_count": 49,
   "metadata": {
    "colab": {
     "base_uri": "https://localhost:8080/",
     "height": 34
    },
    "colab_type": "code",
    "id": "Mvi76-Zw_vjm",
    "outputId": "96783287-7f31-463d-d00f-c6527099e767"
   },
   "outputs": [
    {
     "name": "stdout",
     "output_type": "stream",
     "text": [
      "0.0005195663748517998\n"
     ]
    }
   ],
   "source": [
    "lambda2 = TD_Cl / TM_Cl #Probability of disengagement per mile on a cloudy day\n",
    "print(lambda2)"
   ]
  },
  {
   "cell_type": "markdown",
   "metadata": {
    "colab_type": "text",
    "id": "dcw8oeqAxb6T"
   },
   "source": [
    "**Similarly, we calculate the probability of an automatic disengagement per mile on a cloudy day, and the probability of an automatic disengagement per mile on a clear day.**\n",
    "\n",
    "We denote the probability of automatic disengagement per mile on a cloudy day, which is **$P(AutoDis | Cloudy)$**,  as **P__Auto_Dis_per_Mile__Cd**."
   ]
  },
  {
   "cell_type": "code",
   "execution_count": 31,
   "metadata": {
    "colab": {
     "base_uri": "https://localhost:8080/",
     "height": 119
    },
    "colab_type": "code",
    "id": "IICDHjUvCRoU",
    "outputId": "f02e98c0-20bc-4b19-ae01-9252b838ebb8"
   },
   "outputs": [
    {
     "data": {
      "text/plain": [
       "Weather  TypeOfTrigger\n",
       "clear    automatic         96\n",
       "         manual            93\n",
       "cloudy   manual           438\n",
       "         automatic        397\n",
       "Name: TypeOfTrigger, dtype: int64"
      ]
     },
     "execution_count": 31,
     "metadata": {
      "tags": []
     },
     "output_type": "execute_result"
    }
   ],
   "source": [
    "disengagements.groupby(\"Weather\")[\"TypeOfTrigger\"].value_counts()"
   ]
  },
  {
   "cell_type": "code",
   "execution_count": 50,
   "metadata": {
    "colab": {
     "base_uri": "https://localhost:8080/",
     "height": 34
    },
    "colab_type": "code",
    "id": "gYK4Oxu_DYNb",
    "outputId": "2b68b0c9-2e80-4d28-ee05-7d56f6b7e55b"
   },
   "outputs": [
    {
     "name": "stdout",
     "output_type": "stream",
     "text": [
      "0.0028063653172267283\n"
     ]
    }
   ],
   "source": [
    "TD_Cd_Auto = 397 #Total automatic disengagements on cloudy days\n",
    "P__Auto_Dis_per_Mile__Cd = TD_Cd_Auto / TM_Cd #Probability of automatic diengagement per mile on cloudy days\n",
    "print(P__Auto_Dis_per_Mile__Cd)"
   ]
  },
  {
   "cell_type": "markdown",
   "metadata": {
    "colab_type": "text",
    "id": "kw6hh5hUyNFS"
   },
   "source": [
    "We denote the probability of automatic disengagement per mile on a cloudy day, which is **$P(AutoDis | Clear)$**,  as **P__Auto_Dis_per_Mile__Cl**."
   ]
  },
  {
   "cell_type": "code",
   "execution_count": 51,
   "metadata": {
    "colab": {
     "base_uri": "https://localhost:8080/",
     "height": 34
    },
    "colab_type": "code",
    "id": "hqMdN_rGD9Z_",
    "outputId": "21f8d393-6048-4692-aa3c-a013eb937638"
   },
   "outputs": [
    {
     "name": "stdout",
     "output_type": "stream",
     "text": [
      "0.00026390673008345393\n"
     ]
    }
   ],
   "source": [
    "TD_Cl_Auto = 96 #Total automatic disengagements on clear days\n",
    "P__Auto_Dis_per_Mile__Cl = TD_Cl_Auto / TM_Cl #Probability of automatic diengagement per mile on clear days\n",
    "print(P__Auto_Dis_per_Mile__Cl)"
   ]
  },
  {
   "cell_type": "markdown",
   "metadata": {
    "colab_type": "text",
    "id": "UVhJ2mnuykco"
   },
   "source": [
    "Repeated Bernoulli trials generates Binomial distribution. However, when the interval between which an event can either occur or not is extremely small, we may treat the distribution as a Poisson distribution. In our case we have 10,000 miles and each interval is 1 mile. Therefore we can treat this distribution as a continuous poisson distribution with $\\mu$ as $\\lambda_1 * 1000$. We then find out $1-cdf(150)$ to get the result."
   ]
  },
  {
   "cell_type": "code",
   "execution_count": 0,
   "metadata": {
    "colab": {},
    "colab_type": "code",
    "id": "0IQ31xzDEFCP"
   },
   "outputs": [],
   "source": [
    "mu = lambda1 * 10000"
   ]
  },
  {
   "cell_type": "code",
   "execution_count": 0,
   "metadata": {
    "colab": {},
    "colab_type": "code",
    "id": "hJb8JGx4FXZb"
   },
   "outputs": [],
   "source": [
    "from scipy.stats import poisson"
   ]
  },
  {
   "cell_type": "code",
   "execution_count": 55,
   "metadata": {
    "colab": {
     "base_uri": "https://localhost:8080/",
     "height": 34
    },
    "colab_type": "code",
    "id": "3-upNdRRFb7s",
    "outputId": "5113ba3d-dd24-4eb4-e9cb-7cfbcae600b4"
   },
   "outputs": [
    {
     "data": {
      "text/plain": [
       "1.1724079666387172e-23"
      ]
     },
     "execution_count": 55,
     "metadata": {
      "tags": []
     },
     "output_type": "execute_result"
    }
   ],
   "source": [
    "poisson.sf(150, mu)"
   ]
  },
  {
   "cell_type": "markdown",
   "metadata": {
    "colab_type": "text",
    "id": "eSTJTOh0z5xY"
   },
   "source": [
    "**As the probability is almost zero, it is highly unlikely that more than 150 disengagements take place in 10000 miles.**"
   ]
  },
  {
   "cell_type": "markdown",
   "metadata": {
    "colab_type": "text",
    "id": "tFoRVhBC0Msm"
   },
   "source": [
    "**At the 0.05 significance level, we test the following hypothesis: The AV has more disengagements (automatic and manual) on cloudy days than clear days.**\n",
    "\n",
    "We compare the rates, $\\lambda_1$ (cloudy) and $\\lambda_2$ (clear) of the two Poisson distributions, using the following z-score:\n",
    "\n",
    "$(\\lambda_1 - \\lambda_2)/\\sqrt(\\lambda_1/N_1+\\lambda_2/N_2)$"
   ]
  },
  {
   "cell_type": "code",
   "execution_count": 63,
   "metadata": {
    "colab": {
     "base_uri": "https://localhost:8080/",
     "height": 34
    },
    "colab_type": "code",
    "id": "BWW-wfeDOPa5",
    "outputId": "f6c0a50b-b574-495c-b105-cfd08b2bdf5b"
   },
   "outputs": [
    {
     "name": "stdout",
     "output_type": "stream",
     "text": [
      "25.913005165877937\n"
     ]
    }
   ],
   "source": [
    "z_score=(lambda1-lambda2)/((lambda1/TM_Cd + lambda2/TM_Cl)**(0.5))\n",
    "print(z_score)"
   ]
  },
  {
   "cell_type": "code",
   "execution_count": 57,
   "metadata": {
    "colab": {
     "base_uri": "https://localhost:8080/",
     "height": 34
    },
    "colab_type": "code",
    "id": "lZOK1LE0RrUm",
    "outputId": "f81f205a-42e8-4c63-b872-92c550f1458b"
   },
   "outputs": [
    {
     "data": {
      "text/plain": [
       "2.376213273440993e-148"
      ]
     },
     "execution_count": 57,
     "metadata": {
      "tags": []
     },
     "output_type": "execute_result"
    }
   ],
   "source": [
    "import scipy as sp\n",
    "p_value = sp.stats.norm.sf(abs(z_score))\n",
    "p_value"
   ]
  },
  {
   "cell_type": "markdown",
   "metadata": {
    "colab_type": "text",
    "id": "k8ExnU8E1uct"
   },
   "source": [
    "**As the p-value of this test is much less than 0.05, we conclude that the rates are diffent. Therefore, AVs are more prone to disengagements on cloudy days.**"
   ]
  },
  {
   "cell_type": "markdown",
   "metadata": {
    "colab_type": "text",
    "id": "3IHsOH0G2DWf"
   },
   "source": [
    "Next, we intend to find **$P(Reaction>0.5 | AutoDis , Cloudy)$** which we call **Acci_Cd**"
   ]
  },
  {
   "cell_type": "code",
   "execution_count": 0,
   "metadata": {
    "colab": {},
    "colab_type": "code",
    "id": "a-gPiEh2T7no"
   },
   "outputs": [],
   "source": [
    "disengagements.dropna(inplace=True) #Dropping all null values"
   ]
  },
  {
   "cell_type": "code",
   "execution_count": 64,
   "metadata": {
    "colab": {
     "base_uri": "https://localhost:8080/",
     "height": 85
    },
    "colab_type": "code",
    "id": "SzIQN9ZoU3wc",
    "outputId": "64ffdffc-7686-45c4-caec-d8a6bb01f6fa"
   },
   "outputs": [
    {
     "data": {
      "text/plain": [
       "Weather\n",
       "clear      96\n",
       "cloudy    396\n",
       "Name: ReactionTime, dtype: int64"
      ]
     },
     "execution_count": 64,
     "metadata": {
      "tags": []
     },
     "output_type": "execute_result"
    }
   ],
   "source": [
    "disengagements.groupby(\"Weather\")[\"ReactionTime\"].count()"
   ]
  },
  {
   "cell_type": "code",
   "execution_count": 0,
   "metadata": {
    "colab": {},
    "colab_type": "code",
    "id": "so2SOaM9VAB4"
   },
   "outputs": [],
   "source": [
    "cloudydf = disengagements[disengagements[\"ReactionTime\"]>0.5]"
   ]
  },
  {
   "cell_type": "code",
   "execution_count": 66,
   "metadata": {
    "colab": {
     "base_uri": "https://localhost:8080/",
     "height": 85
    },
    "colab_type": "code",
    "id": "NGYXnZ2iVGLf",
    "outputId": "1824ab25-bec0-4a87-aaa7-c76c70cd128f"
   },
   "outputs": [
    {
     "data": {
      "text/plain": [
       "Weather\n",
       "clear      53\n",
       "cloudy    215\n",
       "Name: ReactionTime, dtype: int64"
      ]
     },
     "execution_count": 66,
     "metadata": {
      "tags": []
     },
     "output_type": "execute_result"
    }
   ],
   "source": [
    "cloudydf.groupby(\"Weather\")[\"ReactionTime\"].count()"
   ]
  },
  {
   "cell_type": "code",
   "execution_count": 67,
   "metadata": {
    "colab": {
     "base_uri": "https://localhost:8080/",
     "height": 34
    },
    "colab_type": "code",
    "id": "jSjNNpkTVIXq",
    "outputId": "6cbbf55e-3797-4466-d9e3-e7c99e23b038"
   },
   "outputs": [
    {
     "name": "stdout",
     "output_type": "stream",
     "text": [
      "0.5429292929292929\n"
     ]
    }
   ],
   "source": [
    "Acci_Cd = 215/396 #Conditional probability of high reaction time on a cloudy day\n",
    "print(Acci_Cd)"
   ]
  },
  {
   "cell_type": "markdown",
   "metadata": {
    "colab_type": "text",
    "id": "TC1rBSxc4JCv"
   },
   "source": [
    "We intend to find **$P(Reaction>0.7 | AutoDis , Clear)$** which we call **Acci_Cl**"
   ]
  },
  {
   "cell_type": "code",
   "execution_count": 0,
   "metadata": {
    "colab": {},
    "colab_type": "code",
    "id": "hdcLt0a4VK8c"
   },
   "outputs": [],
   "source": [
    "cleardf = disengagements[disengagements[\"ReactionTime\"]>0.7]"
   ]
  },
  {
   "cell_type": "code",
   "execution_count": 69,
   "metadata": {
    "colab": {
     "base_uri": "https://localhost:8080/",
     "height": 85
    },
    "colab_type": "code",
    "id": "mOaoTcYJVO1R",
    "outputId": "94435a33-6ddf-4dc8-fbf5-22d1d0dfc4f2"
   },
   "outputs": [
    {
     "data": {
      "text/plain": [
       "Weather\n",
       "clear      37\n",
       "cloudy    154\n",
       "Name: ReactionTime, dtype: int64"
      ]
     },
     "execution_count": 69,
     "metadata": {
      "tags": []
     },
     "output_type": "execute_result"
    }
   ],
   "source": [
    "cleardf.groupby(\"Weather\")[\"ReactionTime\"].count()"
   ]
  },
  {
   "cell_type": "code",
   "execution_count": 71,
   "metadata": {
    "colab": {
     "base_uri": "https://localhost:8080/",
     "height": 34
    },
    "colab_type": "code",
    "id": "XWWip40KVRSi",
    "outputId": "47896891-2321-476b-b738-7f59635e929a"
   },
   "outputs": [
    {
     "name": "stdout",
     "output_type": "stream",
     "text": [
      "0.3854166666666667\n"
     ]
    }
   ],
   "source": [
    "Acci_Cl = 37/96 #Conditional probability of high reaction time on a cloudy day\n",
    "print(Acci_Cl)"
   ]
  },
  {
   "cell_type": "markdown",
   "metadata": {
    "colab_type": "text",
    "id": "UPMeHTRy4tJ6"
   },
   "source": [
    "Our next task is to find $P(Accident)$. We perform the below manipulations based on the total probability theorem:\n",
    "\n",
    "**$P(Accident)$ = **\n",
    "\n",
    "**$P(Accident | Cloudy)P(Cloudy) + P(Accident | Clear)P(Clear)$**\n",
    "\n",
    "**= $P(Reaction>0.5 , AutoDis | Cloudy)P(Cloudy) + P(Reaction>0.7 , AutoDis | Clear)P(Clear)$**\n",
    "\n",
    "\n",
    "**= $P(Reaction>0.5| AutoDis , Cloudy)P(AutoDis | Cloudy)P(Cloudy) + P(Reaction>0.7 | AutoDis , Clear)P(AutoDis | Clear)P(Clear)$**\n",
    "\n",
    "We have all the values as shown below:\n",
    "\n",
    "$P(Reaction>0.5| AutoDis , Cloudy)$ = Acci_Cd\n",
    "\n",
    "$P(AutoDis | Cloudy)$ = P__Auto_Dis_per_Mile__Cd\n",
    "\n",
    "$P(Cloudy)$ = 0.28\n",
    "\n",
    "$P(Reaction>0.7 | AutoDis , Clear)$ = Acci_Cl\n",
    "\n",
    "$P(AutoDis | Clear)$ = P__Auto_Dis_per_Mile__Cl\n",
    "\n",
    "$P(Clear)$ = 0.72"
   ]
  },
  {
   "cell_type": "code",
   "execution_count": 73,
   "metadata": {
    "colab": {
     "base_uri": "https://localhost:8080/",
     "height": 34
    },
    "colab_type": "code",
    "id": "jLO6V6g478ml",
    "outputId": "4dd737a3-84a3-484c-9940-0dd815a05ea4"
   },
   "outputs": [
    {
     "name": "stdout",
     "output_type": "stream",
     "text": [
      "0.000499858340065454\n"
     ]
    }
   ],
   "source": [
    "P_Acci_per_mile = Acci_Cd * P__Auto_Dis_per_Mile__Cd * 0.28 + Acci_Cl * P__Auto_Dis_per_Mile__Cl * 0.72\n",
    "print(P_Acci_per_mile)"
   ]
  },
  {
   "cell_type": "markdown",
   "metadata": {
    "colab_type": "text",
    "id": "VGqrZ-Dc8dGw"
   },
   "source": [
    "**The probability of a human driver causing a car accident is $2x10^{-6}$**\n",
    "\n",
    "\n",
    "Probability of accident per mile for AVs is approximately $4.99*10^{-4}$ and that of human beings is $2x10^{-6}$. So, we see that the ratio is of the order $10^2$, which is too high to be concluded as being same.\n",
    "\n",
    "We also perform a z-test with significance level 0.05 just to cross-verify:"
   ]
  },
  {
   "cell_type": "code",
   "execution_count": 74,
   "metadata": {
    "colab": {
     "base_uri": "https://localhost:8080/",
     "height": 34
    },
    "colab_type": "code",
    "id": "UnQ0wJP3dM8t",
    "outputId": "90dd4c5e-b79f-448e-d979-3f1b9418fb67"
   },
   "outputs": [
    {
     "name": "stdout",
     "output_type": "stream",
     "text": [
      "15.796444623859077\n"
     ]
    }
   ],
   "source": [
    "lambda11=P_Acci_per_mile   #AV accident rate\n",
    "lambda22=0.000002  #Human accident rate\n",
    "z_score1=(lambda11-lambda22)/((lambda11/505229 + lambda22/505229)**(0.5))\n",
    "print(z_score1)"
   ]
  },
  {
   "cell_type": "code",
   "execution_count": 75,
   "metadata": {
    "colab": {
     "base_uri": "https://localhost:8080/",
     "height": 34
    },
    "colab_type": "code",
    "id": "p30e8fLreTwN",
    "outputId": "c2a36550-adff-4d27-8e32-619e36a4216b"
   },
   "outputs": [
    {
     "name": "stdout",
     "output_type": "stream",
     "text": [
      "1.6458257175571963e-56\n"
     ]
    }
   ],
   "source": [
    "p_value1 = sp.stats.norm.sf(abs(z_score1))\n",
    "print(p_value1)"
   ]
  },
  {
   "cell_type": "markdown",
   "metadata": {
    "colab_type": "text",
    "id": "Ih_99rw095Pa"
   },
   "source": [
    "**Therefore, we conclude that at this point of time AVs are much more prone to accidents than human drivers.**"
   ]
  },
  {
   "cell_type": "markdown",
   "metadata": {},
   "source": [
    "**Using the Naive Bayes Model**"
   ]
  },
  {
   "cell_type": "code",
   "execution_count": 155,
   "metadata": {},
   "outputs": [],
   "source": [
    "unique=disengagements[\"Cause\"].unique()"
   ]
  },
  {
   "cell_type": "code",
   "execution_count": 156,
   "metadata": {},
   "outputs": [
    {
     "data": {
      "text/plain": [
       "{0: 'Incorrect Traffic Light Detection',\n",
       " 1: 'Adverse road surface conditions',\n",
       " 2: 'Position Estimation Failure',\n",
       " 3: 'Emergency Vehicle',\n",
       " 4: 'Software Froze',\n",
       " 5: 'Hardware Fault',\n",
       " 6: 'Incorrect behavior prediction of others',\n",
       " 7: 'Recklessly behaving agent',\n",
       " 8: 'System Tuning and Calibration',\n",
       " 9: 'Unwanted Driver Discomfort'}"
      ]
     },
     "execution_count": 156,
     "metadata": {},
     "output_type": "execute_result"
    }
   ],
   "source": [
    "dictOfWords = { i : unique[i] for i in range(0, len(unique) ) }\n",
    "dictOfWords"
   ]
  },
  {
   "cell_type": "code",
   "execution_count": 157,
   "metadata": {},
   "outputs": [],
   "source": [
    "disengagements['Class'] = np.nan"
   ]
  },
  {
   "cell_type": "code",
   "execution_count": 158,
   "metadata": {},
   "outputs": [
    {
     "data": {
      "text/html": [
       "<div>\n",
       "<style scoped>\n",
       "    .dataframe tbody tr th:only-of-type {\n",
       "        vertical-align: middle;\n",
       "    }\n",
       "\n",
       "    .dataframe tbody tr th {\n",
       "        vertical-align: top;\n",
       "    }\n",
       "\n",
       "    .dataframe thead th {\n",
       "        text-align: right;\n",
       "    }\n",
       "</style>\n",
       "<table border=\"1\" class=\"dataframe\">\n",
       "  <thead>\n",
       "    <tr style=\"text-align: right;\">\n",
       "      <th></th>\n",
       "      <th>Month</th>\n",
       "      <th>Car</th>\n",
       "      <th>Location</th>\n",
       "      <th>Weather</th>\n",
       "      <th>TypeOfTrigger</th>\n",
       "      <th>ReactionTime</th>\n",
       "      <th>Cause</th>\n",
       "      <th>Class</th>\n",
       "    </tr>\n",
       "  </thead>\n",
       "  <tbody>\n",
       "    <tr>\n",
       "      <th>0</th>\n",
       "      <td>14-Sep</td>\n",
       "      <td>WDD2221851A001072</td>\n",
       "      <td>urban-street</td>\n",
       "      <td>cloudy</td>\n",
       "      <td>automatic</td>\n",
       "      <td>0.58</td>\n",
       "      <td>Incorrect Traffic Light Detection</td>\n",
       "      <td>NaN</td>\n",
       "    </tr>\n",
       "    <tr>\n",
       "      <th>1</th>\n",
       "      <td>14-Sep</td>\n",
       "      <td>WDD2221851A001072</td>\n",
       "      <td>urban-street</td>\n",
       "      <td>cloudy</td>\n",
       "      <td>automatic</td>\n",
       "      <td>0.66</td>\n",
       "      <td>Adverse road surface conditions</td>\n",
       "      <td>NaN</td>\n",
       "    </tr>\n",
       "    <tr>\n",
       "      <th>2</th>\n",
       "      <td>14-Sep</td>\n",
       "      <td>WDD2221851A001072</td>\n",
       "      <td>urban-street</td>\n",
       "      <td>cloudy</td>\n",
       "      <td>automatic</td>\n",
       "      <td>1.93</td>\n",
       "      <td>Position Estimation Failure</td>\n",
       "      <td>NaN</td>\n",
       "    </tr>\n",
       "    <tr>\n",
       "      <th>3</th>\n",
       "      <td>14-Sep</td>\n",
       "      <td>WDD2221851A001072</td>\n",
       "      <td>urban-street</td>\n",
       "      <td>cloudy</td>\n",
       "      <td>automatic</td>\n",
       "      <td>0.65</td>\n",
       "      <td>Emergency Vehicle</td>\n",
       "      <td>NaN</td>\n",
       "    </tr>\n",
       "    <tr>\n",
       "      <th>4</th>\n",
       "      <td>14-Sep</td>\n",
       "      <td>WDD2221851A001072</td>\n",
       "      <td>urban-street</td>\n",
       "      <td>cloudy</td>\n",
       "      <td>automatic</td>\n",
       "      <td>0.64</td>\n",
       "      <td>Adverse road surface conditions</td>\n",
       "      <td>NaN</td>\n",
       "    </tr>\n",
       "  </tbody>\n",
       "</table>\n",
       "</div>"
      ],
      "text/plain": [
       "    Month                Car      Location Weather TypeOfTrigger  \\\n",
       "0  14-Sep  WDD2221851A001072  urban-street  cloudy     automatic   \n",
       "1  14-Sep  WDD2221851A001072  urban-street  cloudy     automatic   \n",
       "2  14-Sep  WDD2221851A001072  urban-street  cloudy     automatic   \n",
       "3  14-Sep  WDD2221851A001072  urban-street  cloudy     automatic   \n",
       "4  14-Sep  WDD2221851A001072  urban-street  cloudy     automatic   \n",
       "\n",
       "   ReactionTime                              Cause  Class  \n",
       "0          0.58  Incorrect Traffic Light Detection    NaN  \n",
       "1          0.66    Adverse road surface conditions    NaN  \n",
       "2          1.93        Position Estimation Failure    NaN  \n",
       "3          0.65                  Emergency Vehicle    NaN  \n",
       "4          0.64    Adverse road surface conditions    NaN  "
      ]
     },
     "execution_count": 158,
     "metadata": {},
     "output_type": "execute_result"
    }
   ],
   "source": [
    "disengagements.head()"
   ]
  },
  {
   "cell_type": "code",
   "execution_count": 160,
   "metadata": {},
   "outputs": [
    {
     "name": "stderr",
     "output_type": "stream",
     "text": [
      "/Users/ankushhore/anaconda3/lib/python3.7/site-packages/ipykernel_launcher.py:7: SettingWithCopyWarning: \n",
      "A value is trying to be set on a copy of a slice from a DataFrame\n",
      "\n",
      "See the caveats in the documentation: http://pandas.pydata.org/pandas-docs/stable/indexing.html#indexing-view-versus-copy\n",
      "  import sys\n",
      "/Users/ankushhore/anaconda3/lib/python3.7/site-packages/ipykernel_launcher.py:9: SettingWithCopyWarning: \n",
      "A value is trying to be set on a copy of a slice from a DataFrame\n",
      "\n",
      "See the caveats in the documentation: http://pandas.pydata.org/pandas-docs/stable/indexing.html#indexing-view-versus-copy\n",
      "  if __name__ == '__main__':\n",
      "/Users/ankushhore/anaconda3/lib/python3.7/site-packages/ipykernel_launcher.py:5: SettingWithCopyWarning: \n",
      "A value is trying to be set on a copy of a slice from a DataFrame\n",
      "\n",
      "See the caveats in the documentation: http://pandas.pydata.org/pandas-docs/stable/indexing.html#indexing-view-versus-copy\n",
      "  \"\"\"\n"
     ]
    }
   ],
   "source": [
    "#Adding actual values in the newly created field \"Class\"\n",
    "i=0\n",
    "while i < len(disengagements[\"Cause\"]):\n",
    "    if (disengagements[\"Cause\"][i] == dictOfWords[9] or disengagements[\"Cause\"][i]== dictOfWords[7] or disengagements[\"Cause\"][i] == dictOfWords[6]):\n",
    "        disengagements[\"Class\"][i]=\"Controller\"\n",
    "    elif (disengagements[\"Cause\"][i] == dictOfWords[1] or disengagements[\"Cause\"][i]== dictOfWords[3] or disengagements[\"Cause\"][i]==dictOfWords[2] or disengagements[\"Cause\"][i]==dictOfWords[0]):\n",
    "        disengagements[\"Class\"][i]=\"Perception System\"\n",
    "    else:\n",
    "        disengagements[\"Class\"][i]=\"Computer System\"\n",
    "    i += 1"
   ]
  },
  {
   "cell_type": "code",
   "execution_count": 161,
   "metadata": {},
   "outputs": [
    {
     "data": {
      "text/html": [
       "<div>\n",
       "<style scoped>\n",
       "    .dataframe tbody tr th:only-of-type {\n",
       "        vertical-align: middle;\n",
       "    }\n",
       "\n",
       "    .dataframe tbody tr th {\n",
       "        vertical-align: top;\n",
       "    }\n",
       "\n",
       "    .dataframe thead th {\n",
       "        text-align: right;\n",
       "    }\n",
       "</style>\n",
       "<table border=\"1\" class=\"dataframe\">\n",
       "  <thead>\n",
       "    <tr style=\"text-align: right;\">\n",
       "      <th></th>\n",
       "      <th>Month</th>\n",
       "      <th>Car</th>\n",
       "      <th>Location</th>\n",
       "      <th>Weather</th>\n",
       "      <th>TypeOfTrigger</th>\n",
       "      <th>ReactionTime</th>\n",
       "      <th>Cause</th>\n",
       "      <th>Class</th>\n",
       "    </tr>\n",
       "  </thead>\n",
       "  <tbody>\n",
       "    <tr>\n",
       "      <th>0</th>\n",
       "      <td>14-Sep</td>\n",
       "      <td>WDD2221851A001072</td>\n",
       "      <td>urban-street</td>\n",
       "      <td>cloudy</td>\n",
       "      <td>automatic</td>\n",
       "      <td>0.58</td>\n",
       "      <td>Incorrect Traffic Light Detection</td>\n",
       "      <td>Perception System</td>\n",
       "    </tr>\n",
       "    <tr>\n",
       "      <th>1</th>\n",
       "      <td>14-Sep</td>\n",
       "      <td>WDD2221851A001072</td>\n",
       "      <td>urban-street</td>\n",
       "      <td>cloudy</td>\n",
       "      <td>automatic</td>\n",
       "      <td>0.66</td>\n",
       "      <td>Adverse road surface conditions</td>\n",
       "      <td>Perception System</td>\n",
       "    </tr>\n",
       "    <tr>\n",
       "      <th>2</th>\n",
       "      <td>14-Sep</td>\n",
       "      <td>WDD2221851A001072</td>\n",
       "      <td>urban-street</td>\n",
       "      <td>cloudy</td>\n",
       "      <td>automatic</td>\n",
       "      <td>1.93</td>\n",
       "      <td>Position Estimation Failure</td>\n",
       "      <td>Perception System</td>\n",
       "    </tr>\n",
       "    <tr>\n",
       "      <th>3</th>\n",
       "      <td>14-Sep</td>\n",
       "      <td>WDD2221851A001072</td>\n",
       "      <td>urban-street</td>\n",
       "      <td>cloudy</td>\n",
       "      <td>automatic</td>\n",
       "      <td>0.65</td>\n",
       "      <td>Emergency Vehicle</td>\n",
       "      <td>Perception System</td>\n",
       "    </tr>\n",
       "    <tr>\n",
       "      <th>4</th>\n",
       "      <td>14-Sep</td>\n",
       "      <td>WDD2221851A001072</td>\n",
       "      <td>urban-street</td>\n",
       "      <td>cloudy</td>\n",
       "      <td>automatic</td>\n",
       "      <td>0.64</td>\n",
       "      <td>Adverse road surface conditions</td>\n",
       "      <td>Perception System</td>\n",
       "    </tr>\n",
       "    <tr>\n",
       "      <th>5</th>\n",
       "      <td>14-Sep</td>\n",
       "      <td>WDD2221851A001072</td>\n",
       "      <td>urban-street</td>\n",
       "      <td>cloudy</td>\n",
       "      <td>automatic</td>\n",
       "      <td>0.88</td>\n",
       "      <td>Incorrect Traffic Light Detection</td>\n",
       "      <td>Perception System</td>\n",
       "    </tr>\n",
       "    <tr>\n",
       "      <th>6</th>\n",
       "      <td>14-Sep</td>\n",
       "      <td>WDD2221851A001072</td>\n",
       "      <td>urban-street</td>\n",
       "      <td>cloudy</td>\n",
       "      <td>automatic</td>\n",
       "      <td>0.41</td>\n",
       "      <td>Emergency Vehicle</td>\n",
       "      <td>Perception System</td>\n",
       "    </tr>\n",
       "    <tr>\n",
       "      <th>7</th>\n",
       "      <td>14-Sep</td>\n",
       "      <td>WDD2221851A001072</td>\n",
       "      <td>urban-street</td>\n",
       "      <td>cloudy</td>\n",
       "      <td>automatic</td>\n",
       "      <td>1.45</td>\n",
       "      <td>Emergency Vehicle</td>\n",
       "      <td>Perception System</td>\n",
       "    </tr>\n",
       "    <tr>\n",
       "      <th>8</th>\n",
       "      <td>14-Sep</td>\n",
       "      <td>WDD2221851A001072</td>\n",
       "      <td>urban-street</td>\n",
       "      <td>cloudy</td>\n",
       "      <td>automatic</td>\n",
       "      <td>0.07</td>\n",
       "      <td>Software Froze</td>\n",
       "      <td>Computer System</td>\n",
       "    </tr>\n",
       "    <tr>\n",
       "      <th>9</th>\n",
       "      <td>14-Sep</td>\n",
       "      <td>WDD2221851A001072</td>\n",
       "      <td>urban-street</td>\n",
       "      <td>cloudy</td>\n",
       "      <td>automatic</td>\n",
       "      <td>0.37</td>\n",
       "      <td>Hardware Fault</td>\n",
       "      <td>Computer System</td>\n",
       "    </tr>\n",
       "    <tr>\n",
       "      <th>10</th>\n",
       "      <td>14-Sep</td>\n",
       "      <td>WDD2221851A001072</td>\n",
       "      <td>urban-street</td>\n",
       "      <td>cloudy</td>\n",
       "      <td>automatic</td>\n",
       "      <td>1.55</td>\n",
       "      <td>Emergency Vehicle</td>\n",
       "      <td>Perception System</td>\n",
       "    </tr>\n",
       "    <tr>\n",
       "      <th>11</th>\n",
       "      <td>14-Sep</td>\n",
       "      <td>WDD2221851A001072</td>\n",
       "      <td>urban-street</td>\n",
       "      <td>cloudy</td>\n",
       "      <td>automatic</td>\n",
       "      <td>0.04</td>\n",
       "      <td>Incorrect Traffic Light Detection</td>\n",
       "      <td>Perception System</td>\n",
       "    </tr>\n",
       "    <tr>\n",
       "      <th>12</th>\n",
       "      <td>14-Sep</td>\n",
       "      <td>WDD2221851A001072</td>\n",
       "      <td>urban-street</td>\n",
       "      <td>cloudy</td>\n",
       "      <td>automatic</td>\n",
       "      <td>0.40</td>\n",
       "      <td>Incorrect behavior prediction of others</td>\n",
       "      <td>Controller</td>\n",
       "    </tr>\n",
       "    <tr>\n",
       "      <th>13</th>\n",
       "      <td>14-Sep</td>\n",
       "      <td>WDD2221851A001072</td>\n",
       "      <td>urban-street</td>\n",
       "      <td>cloudy</td>\n",
       "      <td>automatic</td>\n",
       "      <td>1.86</td>\n",
       "      <td>Emergency Vehicle</td>\n",
       "      <td>Perception System</td>\n",
       "    </tr>\n",
       "    <tr>\n",
       "      <th>14</th>\n",
       "      <td>14-Sep</td>\n",
       "      <td>WDD2221851A001072</td>\n",
       "      <td>urban-street</td>\n",
       "      <td>cloudy</td>\n",
       "      <td>automatic</td>\n",
       "      <td>0.21</td>\n",
       "      <td>Adverse road surface conditions</td>\n",
       "      <td>Perception System</td>\n",
       "    </tr>\n",
       "    <tr>\n",
       "      <th>15</th>\n",
       "      <td>14-Sep</td>\n",
       "      <td>WDD2221851A001072</td>\n",
       "      <td>urban-street</td>\n",
       "      <td>cloudy</td>\n",
       "      <td>automatic</td>\n",
       "      <td>0.51</td>\n",
       "      <td>Recklessly behaving agent</td>\n",
       "      <td>Controller</td>\n",
       "    </tr>\n",
       "    <tr>\n",
       "      <th>16</th>\n",
       "      <td>14-Sep</td>\n",
       "      <td>WDD2221851A001072</td>\n",
       "      <td>urban-street</td>\n",
       "      <td>cloudy</td>\n",
       "      <td>manual</td>\n",
       "      <td>NaN</td>\n",
       "      <td>Recklessly behaving agent</td>\n",
       "      <td>Controller</td>\n",
       "    </tr>\n",
       "    <tr>\n",
       "      <th>17</th>\n",
       "      <td>14-Sep</td>\n",
       "      <td>WDD2221851A001072</td>\n",
       "      <td>urban-street</td>\n",
       "      <td>cloudy</td>\n",
       "      <td>automatic</td>\n",
       "      <td>0.38</td>\n",
       "      <td>System Tuning and Calibration</td>\n",
       "      <td>Computer System</td>\n",
       "    </tr>\n",
       "    <tr>\n",
       "      <th>18</th>\n",
       "      <td>14-Sep</td>\n",
       "      <td>WDD2221851A001072</td>\n",
       "      <td>urban-street</td>\n",
       "      <td>cloudy</td>\n",
       "      <td>manual</td>\n",
       "      <td>NaN</td>\n",
       "      <td>Unwanted Driver Discomfort</td>\n",
       "      <td>Controller</td>\n",
       "    </tr>\n",
       "    <tr>\n",
       "      <th>19</th>\n",
       "      <td>14-Sep</td>\n",
       "      <td>WDD2221851A001072</td>\n",
       "      <td>urban-street</td>\n",
       "      <td>cloudy</td>\n",
       "      <td>automatic</td>\n",
       "      <td>0.22</td>\n",
       "      <td>Incorrect Traffic Light Detection</td>\n",
       "      <td>Perception System</td>\n",
       "    </tr>\n",
       "  </tbody>\n",
       "</table>\n",
       "</div>"
      ],
      "text/plain": [
       "     Month                Car      Location Weather TypeOfTrigger  \\\n",
       "0   14-Sep  WDD2221851A001072  urban-street  cloudy     automatic   \n",
       "1   14-Sep  WDD2221851A001072  urban-street  cloudy     automatic   \n",
       "2   14-Sep  WDD2221851A001072  urban-street  cloudy     automatic   \n",
       "3   14-Sep  WDD2221851A001072  urban-street  cloudy     automatic   \n",
       "4   14-Sep  WDD2221851A001072  urban-street  cloudy     automatic   \n",
       "5   14-Sep  WDD2221851A001072  urban-street  cloudy     automatic   \n",
       "6   14-Sep  WDD2221851A001072  urban-street  cloudy     automatic   \n",
       "7   14-Sep  WDD2221851A001072  urban-street  cloudy     automatic   \n",
       "8   14-Sep  WDD2221851A001072  urban-street  cloudy     automatic   \n",
       "9   14-Sep  WDD2221851A001072  urban-street  cloudy     automatic   \n",
       "10  14-Sep  WDD2221851A001072  urban-street  cloudy     automatic   \n",
       "11  14-Sep  WDD2221851A001072  urban-street  cloudy     automatic   \n",
       "12  14-Sep  WDD2221851A001072  urban-street  cloudy     automatic   \n",
       "13  14-Sep  WDD2221851A001072  urban-street  cloudy     automatic   \n",
       "14  14-Sep  WDD2221851A001072  urban-street  cloudy     automatic   \n",
       "15  14-Sep  WDD2221851A001072  urban-street  cloudy     automatic   \n",
       "16  14-Sep  WDD2221851A001072  urban-street  cloudy        manual   \n",
       "17  14-Sep  WDD2221851A001072  urban-street  cloudy     automatic   \n",
       "18  14-Sep  WDD2221851A001072  urban-street  cloudy        manual   \n",
       "19  14-Sep  WDD2221851A001072  urban-street  cloudy     automatic   \n",
       "\n",
       "    ReactionTime                                    Cause              Class  \n",
       "0           0.58        Incorrect Traffic Light Detection  Perception System  \n",
       "1           0.66          Adverse road surface conditions  Perception System  \n",
       "2           1.93              Position Estimation Failure  Perception System  \n",
       "3           0.65                        Emergency Vehicle  Perception System  \n",
       "4           0.64          Adverse road surface conditions  Perception System  \n",
       "5           0.88        Incorrect Traffic Light Detection  Perception System  \n",
       "6           0.41                        Emergency Vehicle  Perception System  \n",
       "7           1.45                        Emergency Vehicle  Perception System  \n",
       "8           0.07                           Software Froze    Computer System  \n",
       "9           0.37                           Hardware Fault    Computer System  \n",
       "10          1.55                        Emergency Vehicle  Perception System  \n",
       "11          0.04        Incorrect Traffic Light Detection  Perception System  \n",
       "12          0.40  Incorrect behavior prediction of others         Controller  \n",
       "13          1.86                        Emergency Vehicle  Perception System  \n",
       "14          0.21          Adverse road surface conditions  Perception System  \n",
       "15          0.51                Recklessly behaving agent         Controller  \n",
       "16           NaN                Recklessly behaving agent         Controller  \n",
       "17          0.38            System Tuning and Calibration    Computer System  \n",
       "18           NaN               Unwanted Driver Discomfort         Controller  \n",
       "19          0.22        Incorrect Traffic Light Detection  Perception System  "
      ]
     },
     "execution_count": 161,
     "metadata": {},
     "output_type": "execute_result"
    }
   ],
   "source": [
    "disengagements[:20]"
   ]
  },
  {
   "cell_type": "markdown",
   "metadata": {},
   "source": [
    "We wplit the data randomly into training and testing(80-20split).Use the fields ‘Location’, ‘Weather’, and ‘TypeOfTrigger’ as features and use ‘Class’ as assigned in the previous question as the label."
   ]
  },
  {
   "cell_type": "code",
   "execution_count": 162,
   "metadata": {},
   "outputs": [],
   "source": [
    "y = disengagements[\"Class\"]"
   ]
  },
  {
   "cell_type": "code",
   "execution_count": 163,
   "metadata": {},
   "outputs": [],
   "source": [
    "X = disengagements[[\"Location\",\"Weather\",\"TypeOfTrigger\"]]"
   ]
  },
  {
   "cell_type": "code",
   "execution_count": 164,
   "metadata": {},
   "outputs": [],
   "source": [
    "#Splitting entire data into training and test dataset\n",
    "from sklearn.model_selection import train_test_split\n",
    "X_train, X_test, y_train, y_test = train_test_split(X, y, test_size=0.2)"
   ]
  },
  {
   "cell_type": "code",
   "execution_count": 165,
   "metadata": {},
   "outputs": [
    {
     "data": {
      "text/html": [
       "<div>\n",
       "<style scoped>\n",
       "    .dataframe tbody tr th:only-of-type {\n",
       "        vertical-align: middle;\n",
       "    }\n",
       "\n",
       "    .dataframe tbody tr th {\n",
       "        vertical-align: top;\n",
       "    }\n",
       "\n",
       "    .dataframe thead th {\n",
       "        text-align: right;\n",
       "    }\n",
       "</style>\n",
       "<table border=\"1\" class=\"dataframe\">\n",
       "  <thead>\n",
       "    <tr style=\"text-align: right;\">\n",
       "      <th></th>\n",
       "      <th>Location</th>\n",
       "      <th>Weather</th>\n",
       "      <th>TypeOfTrigger</th>\n",
       "    </tr>\n",
       "  </thead>\n",
       "  <tbody>\n",
       "    <tr>\n",
       "      <th>0</th>\n",
       "      <td>urban-street</td>\n",
       "      <td>cloudy</td>\n",
       "      <td>automatic</td>\n",
       "    </tr>\n",
       "    <tr>\n",
       "      <th>1</th>\n",
       "      <td>urban-street</td>\n",
       "      <td>cloudy</td>\n",
       "      <td>manual</td>\n",
       "    </tr>\n",
       "    <tr>\n",
       "      <th>2</th>\n",
       "      <td>urban-street</td>\n",
       "      <td>cloudy</td>\n",
       "      <td>automatic</td>\n",
       "    </tr>\n",
       "    <tr>\n",
       "      <th>3</th>\n",
       "      <td>urban-street</td>\n",
       "      <td>cloudy</td>\n",
       "      <td>automatic</td>\n",
       "    </tr>\n",
       "    <tr>\n",
       "      <th>4</th>\n",
       "      <td>urban-street</td>\n",
       "      <td>cloudy</td>\n",
       "      <td>automatic</td>\n",
       "    </tr>\n",
       "  </tbody>\n",
       "</table>\n",
       "</div>"
      ],
      "text/plain": [
       "       Location Weather TypeOfTrigger\n",
       "0  urban-street  cloudy     automatic\n",
       "1  urban-street  cloudy        manual\n",
       "2  urban-street  cloudy     automatic\n",
       "3  urban-street  cloudy     automatic\n",
       "4  urban-street  cloudy     automatic"
      ]
     },
     "execution_count": 165,
     "metadata": {},
     "output_type": "execute_result"
    }
   ],
   "source": [
    "#Recreating indexes for training and test data\n",
    "X_train = X_train.reset_index()\n",
    "X_train = X_train.drop(\"index\", axis=1)\n",
    "X_train.head()"
   ]
  },
  {
   "cell_type": "code",
   "execution_count": 166,
   "metadata": {},
   "outputs": [
    {
     "data": {
      "text/html": [
       "<div>\n",
       "<style scoped>\n",
       "    .dataframe tbody tr th:only-of-type {\n",
       "        vertical-align: middle;\n",
       "    }\n",
       "\n",
       "    .dataframe tbody tr th {\n",
       "        vertical-align: top;\n",
       "    }\n",
       "\n",
       "    .dataframe thead th {\n",
       "        text-align: right;\n",
       "    }\n",
       "</style>\n",
       "<table border=\"1\" class=\"dataframe\">\n",
       "  <thead>\n",
       "    <tr style=\"text-align: right;\">\n",
       "      <th></th>\n",
       "      <th>Class</th>\n",
       "    </tr>\n",
       "  </thead>\n",
       "  <tbody>\n",
       "    <tr>\n",
       "      <th>0</th>\n",
       "      <td>Perception System</td>\n",
       "    </tr>\n",
       "    <tr>\n",
       "      <th>1</th>\n",
       "      <td>Computer System</td>\n",
       "    </tr>\n",
       "    <tr>\n",
       "      <th>2</th>\n",
       "      <td>Perception System</td>\n",
       "    </tr>\n",
       "    <tr>\n",
       "      <th>3</th>\n",
       "      <td>Perception System</td>\n",
       "    </tr>\n",
       "    <tr>\n",
       "      <th>4</th>\n",
       "      <td>Perception System</td>\n",
       "    </tr>\n",
       "  </tbody>\n",
       "</table>\n",
       "</div>"
      ],
      "text/plain": [
       "               Class\n",
       "0  Perception System\n",
       "1    Computer System\n",
       "2  Perception System\n",
       "3  Perception System\n",
       "4  Perception System"
      ]
     },
     "execution_count": 166,
     "metadata": {},
     "output_type": "execute_result"
    }
   ],
   "source": [
    "y_train = y_train.reset_index()\n",
    "y_train = y_train.drop(\"index\", axis=1)\n",
    "y_train.head()"
   ]
  },
  {
   "cell_type": "code",
   "execution_count": 167,
   "metadata": {},
   "outputs": [
    {
     "data": {
      "text/html": [
       "<div>\n",
       "<style scoped>\n",
       "    .dataframe tbody tr th:only-of-type {\n",
       "        vertical-align: middle;\n",
       "    }\n",
       "\n",
       "    .dataframe tbody tr th {\n",
       "        vertical-align: top;\n",
       "    }\n",
       "\n",
       "    .dataframe thead th {\n",
       "        text-align: right;\n",
       "    }\n",
       "</style>\n",
       "<table border=\"1\" class=\"dataframe\">\n",
       "  <thead>\n",
       "    <tr style=\"text-align: right;\">\n",
       "      <th></th>\n",
       "      <th>Location</th>\n",
       "      <th>Weather</th>\n",
       "      <th>TypeOfTrigger</th>\n",
       "    </tr>\n",
       "  </thead>\n",
       "  <tbody>\n",
       "    <tr>\n",
       "      <th>0</th>\n",
       "      <td>urban-street</td>\n",
       "      <td>clear</td>\n",
       "      <td>manual</td>\n",
       "    </tr>\n",
       "    <tr>\n",
       "      <th>1</th>\n",
       "      <td>urban-street</td>\n",
       "      <td>clear</td>\n",
       "      <td>manual</td>\n",
       "    </tr>\n",
       "    <tr>\n",
       "      <th>2</th>\n",
       "      <td>urban-street</td>\n",
       "      <td>cloudy</td>\n",
       "      <td>automatic</td>\n",
       "    </tr>\n",
       "    <tr>\n",
       "      <th>3</th>\n",
       "      <td>urban-street</td>\n",
       "      <td>cloudy</td>\n",
       "      <td>manual</td>\n",
       "    </tr>\n",
       "    <tr>\n",
       "      <th>4</th>\n",
       "      <td>urban-street</td>\n",
       "      <td>cloudy</td>\n",
       "      <td>manual</td>\n",
       "    </tr>\n",
       "  </tbody>\n",
       "</table>\n",
       "</div>"
      ],
      "text/plain": [
       "       Location Weather TypeOfTrigger\n",
       "0  urban-street   clear        manual\n",
       "1  urban-street   clear        manual\n",
       "2  urban-street  cloudy     automatic\n",
       "3  urban-street  cloudy        manual\n",
       "4  urban-street  cloudy        manual"
      ]
     },
     "execution_count": 167,
     "metadata": {},
     "output_type": "execute_result"
    }
   ],
   "source": [
    "X_test = X_test.reset_index()\n",
    "X_test = X_test.drop(\"index\", axis=1)\n",
    "X_test.head()"
   ]
  },
  {
   "cell_type": "code",
   "execution_count": 168,
   "metadata": {},
   "outputs": [
    {
     "data": {
      "text/html": [
       "<div>\n",
       "<style scoped>\n",
       "    .dataframe tbody tr th:only-of-type {\n",
       "        vertical-align: middle;\n",
       "    }\n",
       "\n",
       "    .dataframe tbody tr th {\n",
       "        vertical-align: top;\n",
       "    }\n",
       "\n",
       "    .dataframe thead th {\n",
       "        text-align: right;\n",
       "    }\n",
       "</style>\n",
       "<table border=\"1\" class=\"dataframe\">\n",
       "  <thead>\n",
       "    <tr style=\"text-align: right;\">\n",
       "      <th></th>\n",
       "      <th>Class</th>\n",
       "    </tr>\n",
       "  </thead>\n",
       "  <tbody>\n",
       "    <tr>\n",
       "      <th>0</th>\n",
       "      <td>Computer System</td>\n",
       "    </tr>\n",
       "    <tr>\n",
       "      <th>1</th>\n",
       "      <td>Computer System</td>\n",
       "    </tr>\n",
       "    <tr>\n",
       "      <th>2</th>\n",
       "      <td>Perception System</td>\n",
       "    </tr>\n",
       "    <tr>\n",
       "      <th>3</th>\n",
       "      <td>Controller</td>\n",
       "    </tr>\n",
       "    <tr>\n",
       "      <th>4</th>\n",
       "      <td>Perception System</td>\n",
       "    </tr>\n",
       "  </tbody>\n",
       "</table>\n",
       "</div>"
      ],
      "text/plain": [
       "               Class\n",
       "0    Computer System\n",
       "1    Computer System\n",
       "2  Perception System\n",
       "3         Controller\n",
       "4  Perception System"
      ]
     },
     "execution_count": 168,
     "metadata": {},
     "output_type": "execute_result"
    }
   ],
   "source": [
    "y_test = y_test.reset_index()\n",
    "y_test = y_test.drop(\"index\", axis=1)\n",
    "y_test.head()"
   ]
  },
  {
   "cell_type": "markdown",
   "metadata": {},
   "source": [
    "Below we create a function which takes 4 input values:\n",
    "\n",
    "-Training features\n",
    "\n",
    "-Training labels\n",
    "\n",
    "-Test features\n",
    "\n",
    "-Test labels\n",
    "\n",
    "It then applyes Naive Bayes classification to generate prediction values and stores them in an array y_hat.\n",
    "Next, it compares y_hat values with the actual labels - 'Test labels', and counts the misclassifications.\n",
    "Ultimately this function returns the accuracy (accuracy = 1 - (count_misclassification / length of Test Labels))."
   ]
  },
  {
   "cell_type": "code",
   "execution_count": 170,
   "metadata": {},
   "outputs": [],
   "source": [
    "def naive_bayes(features_train, labels_train, features_test, labels_test):\n",
    "    length1 = len(features_test[\"Location\"])\n",
    "    length2 = len(features_train[\"Location\"])\n",
    "    y_hat = []\n",
    "    i = 0\n",
    "    while i < length1:\n",
    "        j = 0\n",
    "        count_joint_controller = 0\n",
    "        count_joint_CS = 0\n",
    "        count_joint_PS = 0\n",
    "        count_location = 0\n",
    "        count_weather = 0\n",
    "        count_tot = 0\n",
    "        while j < length2:\n",
    "            if labels_train[\"Class\"][j]==\"Controller\" and features_train[\"Location\"][j] == features_test[\"Location\"][i] and features_train[\"Weather\"][j] == features_test[\"Weather\"][i] and features_train[\"TypeOfTrigger\"][j] == features_test[\"TypeOfTrigger\"][i]:\n",
    "                count_joint_controller += 1\n",
    "        \n",
    "            if labels_train[\"Class\"][j]==\"Computer System\" and features_train[\"Location\"][j] == features_test[\"Location\"][i] and features_train[\"Weather\"][j] == features_test[\"Weather\"][i] and features_train[\"TypeOfTrigger\"][j] == features_test[\"TypeOfTrigger\"][i]:\n",
    "                count_joint_CS += 1\n",
    "        \n",
    "            if labels_train[\"Class\"][j]==\"Perception System\" and features_train[\"Location\"][j] == features_test[\"Location\"][i] and features_train[\"Weather\"][j] == features_test[\"Weather\"][i] and features_train[\"TypeOfTrigger\"][j] == features_test[\"TypeOfTrigger\"][i]:\n",
    "                count_joint_PS += 1\n",
    "        \n",
    "            if features_train[\"Location\"][j] == features_test[\"Location\"][i]:\n",
    "                count_location += 1\n",
    "        \n",
    "            if features_train[\"Weather\"][j] == features_test[\"Weather\"][i]:\n",
    "                count_weather += 1\n",
    "        \n",
    "            if features_train[\"TypeOfTrigger\"][j] == features_test[\"TypeOfTrigger\"][i]:\n",
    "                count_tot += 1\n",
    "            j += 1\n",
    "    \n",
    "        \n",
    "        \n",
    "        P_conditional_controller = (count_joint_controller/length2) / float((count_location/length2) * (count_weather/length2) * (count_tot/length2))\n",
    "        P_conditional_CS = (count_joint_CS/length2) / float((count_location/length2) * (count_weather/length2) * (count_tot/length2))\n",
    "        P_conditional_PS = (count_joint_PS/length2) / float((count_location/length2) * (count_weather/length2) * (count_tot/length2))\n",
    "        if P_conditional_controller > P_conditional_CS and P_conditional_controller > P_conditional_PS:\n",
    "            y_hat.append(\"Controller\")\n",
    "        elif P_conditional_CS > P_conditional_controller and P_conditional_CS > P_conditional_PS:\n",
    "            y_hat.append(\"Computer System\")\n",
    "        else:\n",
    "            y_hat.append(\"Perception System\")\n",
    "        i += 1\n",
    "        \n",
    "    count_misclassification = 0\n",
    "    k=0\n",
    "    while k < length1:\n",
    "        if y_hat[k] != labels_test[\"Class\"][k]:\n",
    "            count_misclassification += 1\n",
    "        k += 1\n",
    "        \n",
    "    accuracy = 1 - (count_misclassification / length1)\n",
    "    return(accuracy)"
   ]
  },
  {
   "cell_type": "code",
   "execution_count": 171,
   "metadata": {},
   "outputs": [],
   "source": [
    "#We measure the training accuracy by passing X_train, y_train, X_train, y_train\n",
    "train_accuracy = naive_bayes(X_train,y_train,X_train,y_train)"
   ]
  },
  {
   "cell_type": "code",
   "execution_count": 172,
   "metadata": {},
   "outputs": [
    {
     "name": "stdout",
     "output_type": "stream",
     "text": [
      "0.8046398046398047\n"
     ]
    }
   ],
   "source": [
    "print(train_accuracy) #We get a training accuracy of 80.46%"
   ]
  },
  {
   "cell_type": "markdown",
   "metadata": {},
   "source": [
    "We measure the accuracy of the model on the test data by passing X_train, y_train, X_test, y_test to our function (model):"
   ]
  },
  {
   "cell_type": "code",
   "execution_count": 173,
   "metadata": {},
   "outputs": [
    {
     "name": "stdout",
     "output_type": "stream",
     "text": [
      "0.7560975609756098\n"
     ]
    }
   ],
   "source": [
    "test_accuracy = naive_bayes(X_train,y_train,X_test,y_test)\n",
    "print(test_accuracy) #We get a test accuracy of 75.61%"
   ]
  },
  {
   "cell_type": "markdown",
   "metadata": {},
   "source": [
    "To get a better estimate of the model performance, we perform cross-validation.\n",
    "\n",
    "We perform the above 3 steps 5 times and calculate the average accuracy:"
   ]
  },
  {
   "cell_type": "code",
   "execution_count": 174,
   "metadata": {},
   "outputs": [
    {
     "name": "stdout",
     "output_type": "stream",
     "text": [
      "0.784390243902439\n"
     ]
    }
   ],
   "source": [
    "cv_count = 0\n",
    "test_accuracy_cumulative = 0\n",
    "train_accuracy_cumulative = 0\n",
    "\n",
    "#Looping for 5 times cross validation\n",
    "while cv_count < 5:\n",
    "    X_train_i, X_test_i, y_train_i, y_test_i = train_test_split(X, y, test_size=0.2)\n",
    "    y_train_i = y_train_i.reset_index()\n",
    "    y_train_i = y_train_i.drop(\"index\", axis=1)\n",
    "    X_train_i = X_train_i.reset_index()\n",
    "    X_train_i = X_train_i.drop(\"index\", axis=1)\n",
    "    y_test_i = y_test_i.reset_index()\n",
    "    y_test_i = y_test_i.drop(\"index\", axis=1)\n",
    "    X_test_i = X_test_i.reset_index()\n",
    "    X_test_i = X_test_i.drop(\"index\", axis=1)\n",
    "    #Adding the accuracy for each test\n",
    "    test_accuracy_cumulative = test_accuracy_cumulative + naive_bayes(X_train_i, y_train_i, X_test_i, y_test_i)\n",
    "    cv_count += 1\n",
    "\n",
    "#Averaging the accuracy over the 5 runs    \n",
    "cv_accuracy = test_accuracy_cumulative/5.0\n",
    "\n",
    "print(cv_accuracy)"
   ]
  },
  {
   "cell_type": "markdown",
   "metadata": {},
   "source": [
    "**We achive a cross-validation accuracy of 78.43%**"
   ]
  },
  {
   "cell_type": "markdown",
   "metadata": {},
   "source": [
    "We next check if this model performs better than chance.\n",
    "\n",
    "To test this, we perform the following:\n",
    "1. Split the data into test and training sets.\n",
    "2. Calculate the proportions of the 3 class labels in the training set.\n",
    "3. We randomly assign the 3 classes to the test data based on their proportions calculated in step 2.\n",
    "4. We calculated the accuracy of this randomly assigned classes.\n",
    "5. We pass the same training and test dataset to our model and get the accuracy of our model.\n",
    "6. We compare the accuracies calculated in step 2 and step 5 to reach a conclusion."
   ]
  },
  {
   "cell_type": "code",
   "execution_count": 176,
   "metadata": {},
   "outputs": [
    {
     "name": "stdout",
     "output_type": "stream",
     "text": [
      "Accuracy of our naive Bayes model = 0.7658536585365854\n",
      "Accuracy of randomly assigned classes = 0.3414634146341463\n"
     ]
    }
   ],
   "source": [
    "#Splitting data into test and training data\n",
    "X_train_j, X_test_j, y_train_j, y_test_j = train_test_split(X, y, test_size=0.2)\n",
    "y_train_j = y_train_j.reset_index()\n",
    "y_train_j = y_train_j.drop(\"index\", axis=1)\n",
    "X_train_j = X_train_j.reset_index()\n",
    "X_train_j = X_train_j.drop(\"index\", axis=1)\n",
    "y_test_j = y_test_j.reset_index()\n",
    "y_test_j = y_test_j.drop(\"index\", axis=1)\n",
    "X_test_j = X_test_j.reset_index()\n",
    "X_test_j = X_test_j.drop(\"index\", axis=1)\n",
    "\n",
    "#Calculate the accuracy of our Naive Bayes model\n",
    "accuracy_model = naive_bayes(X_train_j, y_train_j, X_test_j, y_test_j)\n",
    "\n",
    "#Calculate the proportions of the three class labels in training dataset\n",
    "Proportion_C = y_train_j[y_train_j[\"Class\"]==\"Controller\"].count()/float(len(y_train_j[\"Class\"]))\n",
    "Proportion_CS = y_train_j[y_train_j[\"Class\"]==\"Computer System\"].count()/float(len(y_train_j[\"Class\"]))\n",
    "Proportion_PS = y_train_j[y_train_j[\"Class\"]==\"Perception System\"].count()/float(len(y_train_j[\"Class\"]))\n",
    "\n",
    "#Generate as many random values as many rows of test data\n",
    "#We use uniform distribution between 0 and 1 to generate these values\n",
    "rand_vals = np.random.uniform(0,1,len(y_test_j[\"Class\"]))\n",
    "\n",
    "#We split the range [0,1] into the proportions of the three classes in training data\n",
    "#We label the test data based on the range in which each of the random value lies\n",
    "row = 0\n",
    "y_hat_rand = []\n",
    "while row < len(y_test_j[\"Class\"]):\n",
    "    if rand_vals[row] < float(Proportion_C):\n",
    "        y_hat_rand.append(\"Controller\")\n",
    "    \n",
    "    elif rand_vals[row] < float(Proportion_C + Proportion_CS):\n",
    "        y_hat_rand.append(\"Computer System\")\n",
    "    else:\n",
    "        y_hat_rand.append(\"Perception System\")\n",
    "    row += 1\n",
    "\n",
    "#Calculate the misclassifications of the random model\n",
    "k=0\n",
    "count_misclassification = 0\n",
    "while k < len(y_test_j[\"Class\"]):\n",
    "    if y_hat_rand[k] != y_test_j[\"Class\"][k]:\n",
    "        count_misclassification += 1\n",
    "    k += 1\n",
    "\n",
    "#Calculate the accuracy of the random model\n",
    "accuracy_random = 1 - (count_misclassification / len(y_test_j[\"Class\"]))\n",
    "\n",
    "print(\"Accuracy of our naive Bayes model = \" + str(accuracy_model))\n",
    "print(\"Accuracy of randomly assigned classes = \" + str(accuracy_random))"
   ]
  },
  {
   "cell_type": "markdown",
   "metadata": {},
   "source": [
    "We see that the accuracy of the Naive Bayes model is much higher than the random model.\n",
    "**We conclude that the NB model is better than chance assignment of labels.**"
   ]
  },
  {
   "cell_type": "markdown",
   "metadata": {},
   "source": [
    "In the NB model we have assumed that the predictors \"Location\", \"Weather\" and \"TypeOfTrigger\" are independent of each other. In other words P(Location, Weather, TypeOfTrigger) = P(Location).P(Weather).P(TypeOfTrigger).\n",
    "\n",
    "These assumptions are not realistic as Weather and TypeOfTrigger cannot be independent of each other. For example, we expect \"Computer System\" triggers to take place equally on all weather conditions, whereas \"Perception System\" triggers to be more likely on cloudy days than on clear days."
   ]
  },
  {
   "cell_type": "markdown",
   "metadata": {},
   "source": [
    "We can improve the accuracy using different models. We predict this since the assumptions we used for the Naive Bayes model (mentioned in the last answer).\n",
    "\n",
    "We analyze the following candidate classification models:\n",
    "\n",
    "kNN: We should not use this model as the variance of this model would be too high with less data points as in our case (~1000).\n",
    "\n",
    "Multinomial Logistic Regression: This model takes into consideration the interaction between predictors. Also the framework of this model is probabilistic, which is our case. Moreover, this model supports online learning. With the ongoing advancement in AVs we expect more data to be generated over time.\n",
    "\n",
    "SVM: This model works better in higher dimensions. But, in our case the number of dimensions is low (3). Moreover, the results of this model are not in probabilistic framework.\n",
    "\n",
    "Decision Trees/Random Forest: This model would be great in terms of interpretibility and also for implicitly considering the interactions between predictors. But, this model cannot support online learning. Therefore we have to keep updating our model.\n",
    "\n",
    "**Considering the above facts, we choose either Random Forests or Multinomial Logistic Regression based on online learning requirement.**\n",
    "\n",
    "We implement RF and Multinomial Logistic Regression below and calculate the accuracy:\n"
   ]
  },
  {
   "cell_type": "code",
   "execution_count": 219,
   "metadata": {},
   "outputs": [
    {
     "name": "stderr",
     "output_type": "stream",
     "text": [
      "/Users/ankushhore/anaconda3/lib/python3.7/site-packages/sklearn/ensemble/forest.py:246: FutureWarning: The default value of n_estimators will change from 10 in version 0.20 to 100 in 0.22.\n",
      "  \"10 in version 0.20 to 100 in 0.22.\", FutureWarning)\n"
     ]
    },
    {
     "data": {
      "text/plain": [
       "0.8585365853658536"
      ]
     },
     "execution_count": 219,
     "metadata": {},
     "output_type": "execute_result"
    }
   ],
   "source": [
    "from sklearn.preprocessing import LabelEncoder\n",
    "entire_data_1 = disengagements[[\"Class\",\"Location\",\"Weather\",\"TypeOfTrigger\"]]\n",
    "entire_data = entire_data_1.iloc[:,:].values\n",
    "labelencoder = LabelEncoder()\n",
    "entire_data[:,0] = labelencoder.fit_transform(entire_data[:,0])\n",
    "entire_data[:,1] = labelencoder.fit_transform(entire_data[:,1])\n",
    "entire_data[:,2] = labelencoder.fit_transform(entire_data[:,2])\n",
    "entire_data[:,3] = labelencoder.fit_transform(entire_data[:,3])\n",
    "\n",
    "entire_data=np.asarray(entire_data,dtype=np.float64)\n",
    "\n",
    "#Splitting entire data into training and test dataset\n",
    "from sklearn.model_selection import train_test_split\n",
    "X_train_rf, X_test_rf, y_train_rf, y_test_rf = train_test_split(entire_data[:,1:], entire_data[:,0], test_size=0.2)\n",
    "\n",
    "\n",
    "from sklearn.ensemble import RandomForestClassifier\n",
    "from sklearn.datasets import make_classification\n",
    "\n",
    "rnd_clf = RandomForestClassifier()\n",
    "\n",
    "rnd_clf.fit(X_train_rf, y_train_rf)\n",
    "rnd_clf.score(X_test_rf, y_test_rf)\n",
    "\n"
   ]
  },
  {
   "cell_type": "code",
   "execution_count": 220,
   "metadata": {},
   "outputs": [
    {
     "data": {
      "text/plain": [
       "0.8585365853658536"
      ]
     },
     "execution_count": 220,
     "metadata": {},
     "output_type": "execute_result"
    }
   ],
   "source": [
    "from sklearn.linear_model import LogisticRegression\n",
    "clf = LogisticRegression(random_state=0, solver='lbfgs',multi_class='multinomial').fit(X_train_rf, y_train_rf)\n",
    "clf.score(X_test_rf, y_test_rf)"
   ]
  },
  {
   "cell_type": "markdown",
   "metadata": {},
   "source": [
    "We see a gain in accuracy by approximately 7%"
   ]
  }
 ],
 "metadata": {
  "colab": {
   "collapsed_sections": [],
   "name": "Untitled0.ipynb",
   "provenance": [],
   "toc_visible": true,
   "version": "0.3.2"
  },
  "kernelspec": {
   "display_name": "Python 3",
   "language": "python",
   "name": "python3"
  },
  "language_info": {
   "codemirror_mode": {
    "name": "ipython",
    "version": 3
   },
   "file_extension": ".py",
   "mimetype": "text/x-python",
   "name": "python",
   "nbconvert_exporter": "python",
   "pygments_lexer": "ipython3",
   "version": "3.7.1"
  }
 },
 "nbformat": 4,
 "nbformat_minor": 1
}
